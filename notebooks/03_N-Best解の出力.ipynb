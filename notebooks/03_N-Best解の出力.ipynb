{
 "metadata": {
  "name": "",
  "signature": "sha256:b17057bb8dec57c9d0d2737c90b1b3d58543a476564c694becfe054ddc60b3a4"
 },
 "nbformat": 3,
 "nbformat_minor": 0,
 "worksheets": [
  {
   "cells": [
    {
     "cell_type": "heading",
     "level": 1,
     "metadata": {},
     "source": [
      "N-Best \u89e3\u306e\u51fa\u529b"
     ]
    },
    {
     "cell_type": "markdown",
     "metadata": {},
     "source": [
      "natto-py \u306b\u3088\u308b N-Best \u89e3\u306e\u51fa\u529b\u3082\u7c21\u5358\u3067\u3059\u3002\u3053\u3053\u306f\u3001-Oyomi \u3068 -N2 \u3092\u6307\u5b9a\u3059\u308b\u3053\u3068\u306b\u3088\u3063\u3066\u5404\u8a9e\u306e\u78ba\u304b\u3089\u3057\u3044\u3082\u306e\u3092\uff12\u3064\u51fa\u529b\u3057\u307e\u3059\u3002"
     ]
    },
    {
     "cell_type": "code",
     "collapsed": false,
     "input": [
      "from natto import MeCab\n",
      "\n",
      "nm = MeCab('-Oyomi -N2')\n",
      "\n",
      "for kanji in ['\u65e5\u672c\u8a9e', '\u5927\u4eba\u6c17', '\u521d\u5fc3']:\n",
      "    print(\"{}\\n\".format(nm.parse(kanji)))"
     ],
     "language": "python",
     "metadata": {},
     "outputs": [
      {
       "output_type": "stream",
       "stream": "stdout",
       "text": [
        "\u30cb\u30db\u30f3\u30b4\n",
        "\u30cb\u30c3\u30dd\u30f3\u30b4\n",
        "\n",
        "\u30c0\u30a4\u30cb\u30f3\u30ad\n",
        "\u30aa\u30c8\u30ca\u30b2\n",
        "\n",
        "\u30b7\u30e7\u30b7\u30f3\n",
        "\u30a6\u30d6\n",
        "\n"
       ]
      }
     ],
     "prompt_number": 1
    }
   ],
   "metadata": {}
  }
 ]
}