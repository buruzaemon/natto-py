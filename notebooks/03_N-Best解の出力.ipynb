{
 "cells": [
  {
   "cell_type": "markdown",
   "metadata": {},
   "source": [
    "# N-Best 解の出力"
   ]
  },
  {
   "cell_type": "markdown",
   "metadata": {},
   "source": [
    "#### `-N` オプション\n",
    "\n",
    "natto-py による N-Best 解の出力も簡単です。ここは、-Oyomi と -N2 を指定することによって各語の確からしいものを２つ出力します。"
   ]
  },
  {
   "cell_type": "code",
   "execution_count": 3,
   "metadata": {
    "collapsed": false
   },
   "outputs": [
    {
     "name": "stdout",
     "output_type": "stream",
     "text": [
      "ニホンゴ\n",
      "ニッポンゴ\n",
      "\n",
      "ダイニンキ\n",
      "オトナゲ\n",
      "\n",
      "ショシン\n",
      "ウブ\n",
      "\n"
     ]
    }
   ],
   "source": [
    "from natto import MeCab\n",
    "\n",
    "with MeCab(\"-Oyomi -N2\") as nm:\n",
    "    for kanji in ['日本語', '大人気', '初心']:\n",
    "        print(\"{}\\n\".format(nm.parse(kanji)))"
   ]
  },
  {
   "cell_type": "markdown",
   "metadata": {},
   "source": [
    "以上。"
   ]
  }
 ],
 "metadata": {
  "kernelspec": {
   "display_name": "Python 3",
   "language": "python",
   "name": "python3"
  },
  "language_info": {
   "codemirror_mode": {
    "name": "ipython",
    "version": 3
   },
   "file_extension": ".py",
   "mimetype": "text/x-python",
   "name": "python",
   "nbconvert_exporter": "python",
   "pygments_lexer": "ipython3",
   "version": "3.4.3"
  }
 },
 "nbformat": 4,
 "nbformat_minor": 0
}
