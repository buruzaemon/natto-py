{
 "cells": [
  {
   "cell_type": "markdown",
   "metadata": {},
   "source": [
    "# わかち書き Parsing"
   ]
  },
  {
   "cell_type": "markdown",
   "metadata": {},
   "source": [
    "natto-py を利用して文章にある語の区切りに空白を挟んで、わかち書き出力ができます。"
   ]
  },
  {
   "cell_type": "code",
   "execution_count": 1,
   "metadata": {
    "collapsed": false
   },
   "outputs": [],
   "source": [
    "from natto import MeCab\n",
    "\n",
    "text = '卓球に人生かけるなんて、気味悪いです。'\n"
   ]
  },
  {
   "cell_type": "markdown",
   "metadata": {},
   "source": [
    "mecab の -O オプションを利用して wakati 出力を指定して返り値を文字列にする方法です。MeCab インスタンスを取得する際に下記の通り出力フォーマットの指定をします。"
   ]
  },
  {
   "cell_type": "code",
   "execution_count": 4,
   "metadata": {
    "collapsed": false
   },
   "outputs": [
    {
     "name": "stdout",
     "output_type": "stream",
     "text": [
      "<natto.mecab.MeCab model=<cdata 'mecab_model_t *' 0x00000000004222B0>, tagger=<cdata 'mecab_t *' 0x00000000004778B0>, lattice=<cdata 'mecab_lattice_t *' 0x00000000004ACB90>, libpath=\"F:\\MeCab\\mecab-0.996-x64\\bin\\libmecab.dll\", options={'output_format_type': 'wakati'}, dicts=[<natto.dictionary.DictionaryInfo dictionary=<cdata 'mecab_dictionary_info_t *' 0x0000000000457940>, filepath=\"F:\\MeCab\\MeCab\\dic\\ipadic\\sys.dic\", charset=SHIFT-JIS, type=0>], version=0.996>\n"
     ]
    }
   ],
   "source": [
    "nm1 = MeCab('-Owakati')\n",
    "print(nm1)\n",
    "#nm1.parse(text)"
   ]
  },
  {
   "cell_type": "markdown",
   "metadata": {},
   "source": [
    "しかし文字列より各語をもつリストの内包表記の方が取り扱いやすくて便利です。\n",
    "\n",
    "下記の例は、MeCab インスタンスを取得するときに as_modes=True を指定します。\n",
    "ここは未知語形態素、形態素解析の結果に先頭（header）や後を位置する footer などの出力をしません。"
   ]
  },
  {
   "cell_type": "code",
   "execution_count": null,
   "metadata": {
    "collapsed": false
   },
   "outputs": [],
   "source": [
    "nm2 = MeCab()\n",
    "\n",
    "[n.surface for n in nm2.parse(text, as_nodes=True) if n.is_nor()]"
   ]
  },
  {
   "cell_type": "markdown",
   "metadata": {},
   "source": [
    "以上。"
   ]
  }
 ],
 "metadata": {
  "kernelspec": {
   "display_name": "Python 3",
   "language": "python",
   "name": "python3"
  },
  "language_info": {
   "codemirror_mode": {
    "name": "ipython",
    "version": 3
   },
   "file_extension": ".py",
   "mimetype": "text/x-python",
   "name": "python",
   "nbconvert_exporter": "python",
   "pygments_lexer": "ipython3",
   "version": "3.4.3"
  }
 },
 "nbformat": 4,
 "nbformat_minor": 0
}
