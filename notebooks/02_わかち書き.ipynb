{
 "metadata": {
  "name": "",
  "signature": "sha256:57011fa46c83e3b8b17e39e81966f29510a4980a563f9dc730282c3d0183cc3f"
 },
 "nbformat": 3,
 "nbformat_minor": 0,
 "worksheets": [
  {
   "cells": [
    {
     "cell_type": "heading",
     "level": 1,
     "metadata": {},
     "source": [
      "\u308f\u304b\u3061\u66f8\u304d Parsing"
     ]
    },
    {
     "cell_type": "markdown",
     "metadata": {},
     "source": [
      "natto-py \u3092\u5229\u7528\u3057\u3066\u6587\u7ae0\u306b\u3042\u308b\u8a9e\u306e\u533a\u5207\u308a\u306b\u7a7a\u767d\u3092\u631f\u3093\u3067\u3001\u308f\u304b\u3061\u66f8\u304d\u51fa\u529b\u304c\u3067\u304d\u307e\u3059\u3002"
     ]
    },
    {
     "cell_type": "code",
     "collapsed": false,
     "input": [
      "from natto import MeCab\n",
      "\n",
      "text = '\u5353\u7403\u306b\u4eba\u751f\u304b\u3051\u308b\u306a\u3093\u3066\u3001\u6c17\u5473\u60aa\u3044\u3067\u3059\u3002'"
     ],
     "language": "python",
     "metadata": {},
     "outputs": [],
     "prompt_number": 1
    },
    {
     "cell_type": "markdown",
     "metadata": {},
     "source": [
      "mecab \u306e -O \u30aa\u30d7\u30b7\u30e7\u30f3\u3092\u5229\u7528\u3057\u3066 wakati \u51fa\u529b\u3092\u6307\u5b9a\u3057\u3066\u8fd4\u308a\u5024\u3092\u6587\u5b57\u5217\u306b\u3059\u308b\u65b9\u6cd5\u3067\u3059\u3002MeCab \u30a4\u30f3\u30b9\u30bf\u30f3\u30b9\u3092\u53d6\u5f97\u3059\u308b\u969b\u306b\u4e0b\u8a18\u306e\u901a\u308a\u51fa\u529b\u30d5\u30a9\u30fc\u30de\u30c3\u30c8\u306e\u6307\u5b9a\u3092\u3057\u307e\u3059\u3002"
     ]
    },
    {
     "cell_type": "code",
     "collapsed": false,
     "input": [
      "nm1 = MeCab('-Owakati')\n",
      "\n",
      "nm1.parse(text)"
     ],
     "language": "python",
     "metadata": {},
     "outputs": [
      {
       "metadata": {},
       "output_type": "pyout",
       "prompt_number": 2,
       "text": [
        "'\u5353\u7403 \u306b \u4eba\u751f \u304b\u3051\u308b \u306a\u3093\u3066 \u3001 \u6c17\u5473\u60aa\u3044 \u3067\u3059 \u3002'"
       ]
      }
     ],
     "prompt_number": 2
    },
    {
     "cell_type": "markdown",
     "metadata": {},
     "source": [
      "\u3057\u304b\u3057\u6587\u5b57\u5217\u3088\u308a\u5404\u8a9e\u3092\u3082\u3064\u30ea\u30b9\u30c8\u306e\u5185\u5305\u8868\u8a18\u306e\u65b9\u304c\u53d6\u308a\u6271\u3044\u3084\u3059\u304f\u3066\u4fbf\u5229\u3067\u3059\u3002\n",
      "\n",
      "\u4e0b\u8a18\u306e\u4f8b\u306f\u3001MeCab \u30a4\u30f3\u30b9\u30bf\u30f3\u30b9\u3092\u53d6\u5f97\u3059\u308b\u3068\u304d\u306b as_modes=True \u3092\u6307\u5b9a\u3057\u307e\u3059\u3002\n",
      "\u3053\u3053\u306f\u672a\u77e5\u8a9e\u5f62\u614b\u7d20\u3001\u5f62\u614b\u7d20\u89e3\u6790\u306e\u7d50\u679c\u306b\u5148\u982d\uff08header\uff09\u3084\u5f8c\u3092\u4f4d\u7f6e\u3059\u308b footer \u306a\u3069\u306e\u51fa\u529b\u3092\u3057\u307e\u305b\u3093\u3002"
     ]
    },
    {
     "cell_type": "code",
     "collapsed": false,
     "input": [
      "nm2 = MeCab()\n",
      "\n",
      "[n.surface for n in nm2.parse(text, as_nodes=True) if n.is_nor()]"
     ],
     "language": "python",
     "metadata": {},
     "outputs": [
      {
       "metadata": {},
       "output_type": "pyout",
       "prompt_number": 3,
       "text": [
        "['\u5353\u7403', '\u306b', '\u4eba\u751f', '\u304b\u3051\u308b', '\u306a\u3093\u3066', '\u3001', '\u6c17\u5473\u60aa\u3044', '\u3067\u3059', '\u3002']"
       ]
      }
     ],
     "prompt_number": 3
    },
    {
     "cell_type": "markdown",
     "metadata": {},
     "source": [
      "\u4ee5\u4e0a\u3002"
     ]
    }
   ],
   "metadata": {}
  }
 ]
}