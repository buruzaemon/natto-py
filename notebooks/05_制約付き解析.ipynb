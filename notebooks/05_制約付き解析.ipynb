{
 "cells": [
  {
   "cell_type": "markdown",
   "metadata": {},
   "source": [
    "# 制約付き解析"
   ]
  },
  {
   "cell_type": "code",
   "execution_count": 1,
   "metadata": {
    "collapsed": true
   },
   "outputs": [],
   "source": [
    "from natto import MeCab"
   ]
  },
  {
   "cell_type": "markdown",
   "metadata": {},
   "source": [
    "#### 形態素境界制約の指定 (boundary constraints)\n",
    "\n",
    "MeCab 制約付き解析機能の形態素境界制約は、形態素の境界を指定してそれを一つの語として扱って解析する機能です。\n",
    "\n",
    "たとえば、特定の正規表現を利用してその条件に満たす形態素を一つの形態素として解析をしたい場合に `boundary_constraint` を指定して制約をつけることができます。下は文中の証券コードを抽出して解析を行う例です。\n",
    "\n",
    "※ただし抽出された形態素は未知語として扱われ、`status` が `1` となる。"
   ]
  },
  {
   "cell_type": "code",
   "execution_count": 2,
   "metadata": {
    "collapsed": false
   },
   "outputs": [
    {
     "name": "stdout",
     "output_type": "stream",
     "text": [
      "証券\t名詞\t0\n",
      "コード\t名詞\t0\n",
      "は\t助詞\t0\n",
      "４\t名詞\t0\n",
      "桁\t名詞\t0\n",
      "の\t助詞\t0\n",
      "銘柄\t名詞\t0\n",
      "識別\t名詞\t0\n",
      "コード\t名詞\t0\n",
      "です\t助動詞\t0\n",
      "。\t記号\t0\n",
      "たとえば\t接続詞\t0\n",
      "、\t記号\t0\n",
      "7777\t名詞\t1\n",
      "です\t助動詞\t0\n",
      "。\t記号\t0\n",
      "あるいは\t接続詞\t0\n",
      "7777 JP\t名詞\t1\n",
      "や\t助詞\t0\n",
      "7777.T\t名詞\t1\n",
      "という\t助詞\t0\n",
      "の\t名詞\t0\n",
      "も\t助詞\t0\n",
      "あり\t動詞\t0\n",
      "ます\t助動詞\t0\n",
      "。\t記号\t0\n",
      "また\t接続詞\t0\n",
      "「\t記号\t0\n",
      "７７７７ＪＰ\t名詞\t1\n",
      "」\t記号\t0\n",
      "の\t助詞\t0\n",
      "よう\t名詞\t0\n",
      "な\t助動詞\t0\n",
      "全角\t名詞\t0\n",
      "文字\t名詞\t0\n",
      "を\t助詞\t0\n",
      "使う\t動詞\t0\n",
      "表し\t動詞\t0\n",
      "方\t名詞\t0\n",
      "も\t助詞\t0\n",
      "ある\t動詞\t0\n",
      "かも\t助詞\t0\n",
      "知れ\t動詞\t0\n",
      "ませ\t助動詞\t0\n",
      "ん\t助動詞\t0\n",
      "。\t記号\t0\n",
      "EOS\n"
     ]
    }
   ],
   "source": [
    "text = \"\"\"\\\n",
    "証券コードは４桁の銘柄識別コードです。\n",
    "たとえば、7777 です。\n",
    "あるいは  7777 JP や 7777.Tというのもあります。\n",
    "また「７７７７ＪＰ」のような全角文字を使う表し方もあるかも知れません。\n",
    "\\\n",
    "\"\"\"\n",
    "\n",
    "# 簡単な証券コードの正規表現\n",
    "patt = \"[0-9\\uFF10-\\uFF19]{4}((\\s|\\.)+[a-zA-Z]{1,2}|[\\uFF21-\\uFF3A]{2})\"\n",
    "\n",
    "with MeCab(r\"-F%m\\t%f[0]\\t%s\") as nm:\n",
    "    for n in nm.parse(text, boundary_constraints=patt, as_nodes=True):\n",
    "        print(n.feature)        "
   ]
  },
  {
   "cell_type": "markdown",
   "metadata": {},
   "source": [
    "#### 品詞制約の指定  (feature constraints) "
   ]
  },
  {
   "cell_type": "code",
   "execution_count": 3,
   "metadata": {
    "collapsed": false
   },
   "outputs": [
    {
     "name": "stdout",
     "output_type": "stream",
     "text": [
      "に\t助詞\t0\n",
      "わに\t名詞\t0\n",
      "はにわ\t名詞\t0\n",
      "にわとり\t名詞\t0\n",
      "が\t助詞\t0\n",
      "いる\t動詞\t0\n",
      "。\t記号\t0\n",
      "EOS\n"
     ]
    }
   ],
   "source": [
    "text = \"にわにはにわにわとりがいる。\"\n",
    "\n",
    "with MeCab(r\"-F%m\\t%f[0]\\t%s\") as nm:\n",
    "    for n in nm.parse(text, as_nodes=True):\n",
    "        print(n.feature)"
   ]
  },
  {
   "cell_type": "code",
   "execution_count": 5,
   "metadata": {
    "collapsed": false
   },
   "outputs": [
    {
     "name": "stdout",
     "output_type": "stream",
     "text": [
      "にわ\ta\t1\n",
      "に\t助詞\t0\n",
      "はにわ\tb\t1\n",
      "にわとり\tc\t1\n",
      "が\t助詞\t0\n",
      "いる\t動詞\t0\n",
      "。\t記号\t0\n"
     ]
    }
   ],
   "source": [
    "feat = ((\"にわとり\",\"c\"), (\"はにわ\",\"b\"), (\"にわ\",\"a\"))\n",
    "\n",
    "with MeCab(r\"-F%m\\t%f[0]\\t%s\") as nm:\n",
    "    for n in nm.parse(text, feature_constraints=feat, as_nodes=True):\n",
    "        if not (n.is_bos() or n.is_eos()):\n",
    "            print(n.feature)"
   ]
  },
  {
   "cell_type": "markdown",
   "metadata": {},
   "source": [
    "----\n",
    "\n",
    "詳しくは [https://taku910.github.io/mecab/partial.html](https://taku910.github.io/mecab/partial.html) を参照してください。\n",
    "\n",
    "以上。"
   ]
  }
 ],
 "metadata": {
  "kernelspec": {
   "display_name": "Python 3",
   "language": "python",
   "name": "python3"
  },
  "language_info": {
   "codemirror_mode": {
    "name": "ipython",
    "version": 3
   },
   "file_extension": ".py",
   "mimetype": "text/x-python",
   "name": "python",
   "nbconvert_exporter": "python",
   "pygments_lexer": "ipython3",
   "version": "3.4.3"
  }
 },
 "nbformat": 4,
 "nbformat_minor": 0
}
