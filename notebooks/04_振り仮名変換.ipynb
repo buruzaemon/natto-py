{
 "metadata": {
  "name": "",
  "signature": "sha256:57baa264a92119797eebf85ce561d9c5ebb74a905441bcfed51f2de43c7072fe"
 },
 "nbformat": 3,
 "nbformat_minor": 0,
 "worksheets": [
  {
   "cells": [
    {
     "cell_type": "code",
     "collapsed": false,
     "input": [
      "from natto import MeCab\n",
      "\n",
      "nm = MeCab('-F%f[7]')"
     ],
     "language": "python",
     "metadata": {},
     "outputs": [],
     "prompt_number": 1
    },
    {
     "cell_type": "markdown",
     "metadata": {},
     "source": [
      "Create katakana-to-hiragana translation table.\n",
      "\n",
      "[katankana](http://symbolcodes.tlt.psu.edu/bylanguage/japanesechartkatakana.html#cons).\n",
      "\n",
      "[hiragana](http://symbolcodes.tlt.psu.edu/bylanguage/japanesecharthiragana.html)"
     ]
    },
    {
     "cell_type": "code",
     "collapsed": false,
     "input": [
      "katakana = (12449,12532)\n",
      "hiragana = (12353,12436)\n",
      "\n",
      "kana2hira = dict(zip(range(katakana[0], katakana[1]+1), \n",
      "                     range(hiragana[0], hiragana[1]+1)))"
     ],
     "language": "python",
     "metadata": {},
     "outputs": [],
     "prompt_number": 2
    },
    {
     "cell_type": "markdown",
     "metadata": {},
     "source": [
      "Here's a test string."
     ]
    },
    {
     "cell_type": "code",
     "collapsed": false,
     "input": [
      "test = '''\\\n",
      "  \u65e5\u672c\u8a9e\u3067\u3059\u3002\n",
      "  \u3053\u308c\u306f\u30ab\u30bf\u30ab\u30ca\u3067\u3059\u3002\n",
      "  \uff21\uff22\uff23\uff11\uff12\uff13\u3000\u306f\u5168\u89d2\u82f1\u6570\u5b57\u3067\u3059\u3002\n",
      "'''.strip()"
     ],
     "language": "python",
     "metadata": {},
     "outputs": [],
     "prompt_number": 3
    },
    {
     "cell_type": "markdown",
     "metadata": {},
     "source": [
      "blah"
     ]
    },
    {
     "cell_type": "code",
     "collapsed": false,
     "input": [
      "memo = []\n",
      "for n in nm.parse(test, 1):\n",
      "  if n.is_nor():\n",
      "    if n.char_type == 2:\n",
      "      memo.append(n.feature.translate(kana2hira))\n",
      "    else:\n",
      "      memo.append(n.surface)"
     ],
     "language": "python",
     "metadata": {},
     "outputs": [],
     "prompt_number": 4
    },
    {
     "cell_type": "code",
     "collapsed": false,
     "input": [
      "''.join(memo)"
     ],
     "language": "python",
     "metadata": {},
     "outputs": [
      {
       "metadata": {},
       "output_type": "pyout",
       "prompt_number": 5,
       "text": [
        "'\u306b\u307b\u3093\u3054\u3067\u3059\u3002\u3053\u308c\u306f\u30ab\u30bf\u30ab\u30ca\u3067\u3059\u3002\uff21\uff22\uff23\uff11\uff12\uff13\u306f\u305c\u3093\u304b\u304f\u3048\u3044\u3059\u3046\u3058\u3067\u3059\u3002'"
       ]
      }
     ],
     "prompt_number": 5
    }
   ],
   "metadata": {}
  }
 ]
}