{
 "cells": [
  {
   "cell_type": "code",
   "execution_count": 1,
   "metadata": {
    "collapsed": false
   },
   "outputs": [],
   "source": [
    "from natto import MeCab\n",
    "\n",
    "nm = MeCab('-F%f[7]')"
   ]
  },
  {
   "cell_type": "markdown",
   "metadata": {},
   "source": [
    "Create katakana-to-hiragana translation table.\n",
    "\n",
    "[katankana](http://symbolcodes.tlt.psu.edu/bylanguage/japanesechartkatakana.html#cons).\n",
    "\n",
    "[hiragana](http://symbolcodes.tlt.psu.edu/bylanguage/japanesecharthiragana.html)"
   ]
  },
  {
   "cell_type": "code",
   "execution_count": 2,
   "metadata": {
    "collapsed": false
   },
   "outputs": [],
   "source": [
    "katakana = (12449,12532)\n",
    "hiragana = (12353,12436)\n",
    "\n",
    "kana2hira = dict(zip(range(katakana[0], katakana[1]+1), \n",
    "                     range(hiragana[0], hiragana[1]+1)))"
   ]
  },
  {
   "cell_type": "markdown",
   "metadata": {},
   "source": [
    "Here's a test string."
   ]
  },
  {
   "cell_type": "code",
   "execution_count": 3,
   "metadata": {
    "collapsed": false
   },
   "outputs": [
    {
     "data": {
      "text/plain": [
       "'日本語です。これはカタカナです。ＡＢＣ１２３ は全角英数字です。'"
      ]
     },
     "execution_count": 3,
     "metadata": {},
     "output_type": "execute_result"
    }
   ],
   "source": [
    "test = '日本語です。これはカタカナです。ＡＢＣ１２３ は全角英数字です。'\n",
    "test"
   ]
  },
  {
   "cell_type": "markdown",
   "metadata": {},
   "source": [
    "blah"
   ]
  },
  {
   "cell_type": "code",
   "execution_count": 4,
   "metadata": {
    "collapsed": false
   },
   "outputs": [
    {
     "name": "stdout",
     "output_type": "stream",
     "text": [
      "にほんごです。これはカタカナです。ＡＢＣ１２３はぜんかくえいすうじです。\n"
     ]
    }
   ],
   "source": [
    "memo = []\n",
    "for n in nm.parse(test, 1):\n",
    "  if n.is_nor():\n",
    "    if n.char_type == 2:\n",
    "      memo.append(n.feature.translate(kana2hira))\n",
    "    else:\n",
    "      memo.append(n.surface)\n",
    "        \n",
    "print(''.join(memo))"
   ]
  },
  {
   "cell_type": "markdown",
   "metadata": {},
   "source": [
    "以上。"
   ]
  }
 ],
 "metadata": {
  "kernelspec": {
   "display_name": "Python 3",
   "language": "python",
   "name": "python3"
  },
  "language_info": {
   "codemirror_mode": {
    "name": "ipython",
    "version": 3
   },
   "file_extension": ".py",
   "mimetype": "text/x-python",
   "name": "python",
   "nbconvert_exporter": "python",
   "pygments_lexer": "ipython3",
   "version": "3.4.3"
  }
 },
 "nbformat": 4,
 "nbformat_minor": 0
}
