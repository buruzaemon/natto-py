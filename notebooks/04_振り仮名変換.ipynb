{
 "cells": [
  {
   "cell_type": "markdown",
   "metadata": {},
   "source": [
    "# 振り仮名変換\n",
    "\n",
    "natto-py を通して文にある漢字の読み方を出力することができます。"
   ]
  },
  {
   "cell_type": "markdown",
   "metadata": {},
   "source": [
    "#### `-F` オプション\n",
    "\n",
    "まず、 `-F` オプションを使用して ChaSen 読みの出力を指定します。"
   ]
  },
  {
   "cell_type": "code",
   "execution_count": 1,
   "metadata": {
    "collapsed": false
   },
   "outputs": [],
   "source": [
    "from natto import MeCab\n",
    "\n",
    "text = \"日本語です。これはカタカナです。ＡＢＣ１２３ は全角英数字です。\""
   ]
  },
  {
   "cell_type": "markdown",
   "metadata": {},
   "source": [
    "#### カタカナ→ひらがな変換テーブルの作成\n",
    "\n",
    "ChaSen 読みはカタカナ出力なのでカタカナからひらがなへの変換するために、コードポイントのマッピングを作成します。\n",
    "\n",
    "[katankana](http://symbolcodes.tlt.psu.edu/bylanguage/japanesechartkatakana.html#cons)\n",
    "\n",
    "[hiragana](http://symbolcodes.tlt.psu.edu/bylanguage/japanesecharthiragana.html)"
   ]
  },
  {
   "cell_type": "code",
   "execution_count": 2,
   "metadata": {
    "collapsed": false
   },
   "outputs": [],
   "source": [
    "katakana = (12449, 12532)    # katakana code-points range\n",
    "hiragana = (12353, 12436)    # hiragana code-points range\n",
    "\n",
    "kana2hira = dict(zip(range(katakana[0], katakana[1]+1), \n",
    "                     range(hiragana[0], hiragana[1]+1)))"
   ]
  },
  {
   "cell_type": "markdown",
   "metadata": {},
   "source": [
    "各MeCabNode の char_type を見てカタカナからひらがなに変換するか否かを判断して出力する関数をつくって、\n",
    "後は map などで適用します。"
   ]
  },
  {
   "cell_type": "code",
   "execution_count": 3,
   "metadata": {
    "collapsed": false
   },
   "outputs": [
    {
     "name": "stdout",
     "output_type": "stream",
     "text": [
      "にほんごです。これはカタカナです。ＡＢＣ１２３はぜんかくえいすうじです。\n"
     ]
    }
   ],
   "source": [
    "with MeCab(\"-Oyomi\") as yomi:\n",
    "    \n",
    "    def _tr(n):\n",
    "        if n.is_nor():\n",
    "            if n.char_type == 2:\n",
    "                return n.feature.translate(kana2hira)\n",
    "            else:\n",
    "                return n.surface\n",
    "        else:\n",
    "            return \"\"\n",
    "\n",
    "    print(\"\".join(map(_tr, yomi.parse(text, as_nodes=True))))"
   ]
  },
  {
   "cell_type": "markdown",
   "metadata": {},
   "source": [
    "以上。"
   ]
  }
 ],
 "metadata": {
  "kernelspec": {
   "display_name": "Python 3",
   "language": "python",
   "name": "python3"
  },
  "language_info": {
   "codemirror_mode": {
    "name": "ipython",
    "version": 3
   },
   "file_extension": ".py",
   "mimetype": "text/x-python",
   "name": "python",
   "nbconvert_exporter": "python",
   "pygments_lexer": "ipython3",
   "version": "3.4.3"
  }
 },
 "nbformat": 4,
 "nbformat_minor": 0
}
