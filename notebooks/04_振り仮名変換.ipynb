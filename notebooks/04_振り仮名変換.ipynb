{
 "cells": [
  {
   "cell_type": "markdown",
   "metadata": {},
   "source": [
    "# 振り仮名変換\n",
    "\n",
    "natto-py を通して文にある漢字の読み方を出力することができます。"
   ]
  },
  {
   "cell_type": "markdown",
   "metadata": {},
   "source": [
    "#### `-F` オプション\n",
    "\n",
    "まず、 `-F` オプションを使用して ChaSen 読みの出力を指定します。"
   ]
  },
  {
   "cell_type": "code",
   "execution_count": 1,
   "metadata": {
    "collapsed": false
   },
   "outputs": [],
   "source": [
    "from natto import MeCab\n",
    "\n",
    "yomi = MeCab('-Oyomi')\n",
    "\n",
    "test = '日本語です。これはカタカナです。ＡＢＣ１２３ は全角英数字です。'"
   ]
  },
  {
   "cell_type": "markdown",
   "metadata": {},
   "source": [
    "#### カタカナ→ひらがな変換テーブルの作成\n",
    "\n",
    "ChaSen 読みはカタカナ出力なのでカタカナからひらがなへの変換するために、コードポイントのマッピングを作成します。\n",
    "\n",
    "[katankana](http://symbolcodes.tlt.psu.edu/bylanguage/japanesechartkatakana.html#cons)\n",
    "\n",
    "[hiragana](http://symbolcodes.tlt.psu.edu/bylanguage/japanesecharthiragana.html)"
   ]
  },
  {
   "cell_type": "code",
   "execution_count": 2,
   "metadata": {
    "collapsed": false
   },
   "outputs": [],
   "source": [
    "katakana = (12449, 12532)    # katakana code-points range\n",
    "hiragana = (12353, 12436)    # hiragana code-points range\n",
    "\n",
    "katakana2hira = dict(zip(range(katakana[0], katakana[1]+1), \n",
    "                         range(hiragana[0], hiragana[1]+1)))"
   ]
  },
  {
   "cell_type": "markdown",
   "metadata": {},
   "source": [
    "後は各MeCabNode の char_type を見てカタカナからひらがなに変換するか否かを判断してリストなどに集めます。"
   ]
  },
  {
   "cell_type": "code",
   "execution_count": 4,
   "metadata": {
    "collapsed": false
   },
   "outputs": [
    {
     "name": "stdout",
     "output_type": "stream",
     "text": [
      "にほんごです。これはカタカナです。ＡＢＣ１２３はぜんかくえいすうじです。\n"
     ]
    }
   ],
   "source": [
    "acc = []\n",
    "for n in yomi.parse(test, as_nodes=True):\n",
    "    if n.is_nor():\n",
    "        if n.char_type == 2:\n",
    "            acc.append(n.feature.translate(katakana2hira))\n",
    "        else:\n",
    "            acc.append(n.surface)\n",
    "        \n",
    "print(''.join(acc))"
   ]
  },
  {
   "cell_type": "markdown",
   "metadata": {},
   "source": [
    "以上。"
   ]
  }
 ],
 "metadata": {
  "kernelspec": {
   "display_name": "Python 3",
   "language": "python",
   "name": "python3"
  },
  "language_info": {
   "codemirror_mode": {
    "name": "ipython",
    "version": 3
   },
   "file_extension": ".py",
   "mimetype": "text/x-python",
   "name": "python",
   "nbconvert_exporter": "python",
   "pygments_lexer": "ipython3",
   "version": "3.4.3"
  }
 },
 "nbformat": 4,
 "nbformat_minor": 0
}
