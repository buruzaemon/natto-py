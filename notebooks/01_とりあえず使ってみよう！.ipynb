{
 "cells": [
  {
   "cell_type": "markdown",
   "metadata": {},
   "source": [
    "# とりあえず使ってみよう！\n",
    "\n",
    "natto-py という MeCab バインディングを簡単に紹介します。"
   ]
  },
  {
   "cell_type": "markdown",
   "metadata": {},
   "source": [
    "### 必要な環境\n",
    "\n",
    "1. Python 2.7 あるいはそれ以上なもの\n",
    "2. MeCab 0.996\n",
    "3. 上記 MeCab 0.996 の利用可能なシステム辞書（以下は mecab-ipadic の利用を想定する）\n",
    "\n",
    "※　このノートブックの文字コードが UTF-8 であるため、mecab の charset を UTF-8 に設定する必要があります。詳しくは[文字コード変更](http://taku910.github.io/mecab/#charset)を参照してください。"
   ]
  },
  {
   "cell_type": "markdown",
   "metadata": {},
   "source": [
    "### インストール\n",
    "\n",
    "インストールするには `pip` を通して通常のパッケージと同様にインストールを行います。    \n",
    "    \n",
    "    pip install natto-py\n"
   ]
  },
  {
   "cell_type": "markdown",
   "metadata": {},
   "source": [
    "### 設定\n",
    "\n",
    "下記の条件さえ揃っていれば、特にあらかじめに設定する必要はなく、natto-py は自動的に mecab ライブラリーを特定し、バインディングをします。\n",
    "\n",
    "- \\*NIX と OSX の場合い、mecab および mecab-config を PATH に追加していること\n",
    "- また Windows では、通常のインストーラーを使用して Windows Registry に `HKEY_CURRENT_USER\\Software\\MeCab` というキーが設定していること\n",
    "\n",
    "万が一、mecab ライブラリーが見つからず `EnvironmentError` などが発生した場合、次の環境変数設定を行う必要があります。\n",
    "\n",
    "- mecab システム辞書の charset を `MECAB_CHARSET=utf8` とする\n",
    "- mecab ライブラリーのファイル名 を `MECAB_PATH` とする"
   ]
  },
  {
   "cell_type": "markdown",
   "metadata": {},
   "source": [
    "### 基本の使い方\n",
    "\n",
    "#### `import` 文\n",
    "\n",
    "`natto` から `MeCab` クラスをインポートしてインスタンスを取得します。\n",
    "\n",
    "`print` でインスタンスの詳細情報が確認できます。"
   ]
  },
  {
   "cell_type": "code",
   "execution_count": 1,
   "metadata": {
    "collapsed": false
   },
   "outputs": [
    {
     "name": "stdout",
     "output_type": "stream",
     "text": [
      "<natto.mecab.MeCab model=<cdata 'mecab_model_t *' 0x104b397e0>, tagger=<cdata 'mecab_t *' 0x104b104d0>, lattice=<cdata 'mecab_lattice_t *' 0x104b23000>, libpath=\"/usr/local/Cellar/mecab/0.996/lib/libmecab.dylib\", options={}, dicts=[<natto.dictionary.DictionaryInfo dictionary=<cdata 'mecab_dictionary_info_t *' 0x104b13ee0>, filepath=\"/usr/local/Cellar/mecab/0.996/lib/mecab/dic/ipadic/sys.dic\", charset=utf8, type=0>], version=0.996>\n"
     ]
    }
   ],
   "source": [
    "from natto import MeCab\n",
    "\n",
    "nm = MeCab()\n",
    "\n",
    "print(nm)"
   ]
  },
  {
   "cell_type": "markdown",
   "metadata": {},
   "source": [
    "#### 解析結果を標準出力に\n",
    "\n",
    "文をとりあえず解析して結果を文字列として標準出力に送ります。"
   ]
  },
  {
   "cell_type": "code",
   "execution_count": 2,
   "metadata": {
    "collapsed": false
   },
   "outputs": [
    {
     "name": "stdout",
     "output_type": "stream",
     "text": [
      "ピンチ\t名詞,一般,*,*,*,*,ピンチ,ピンチ,ピンチ\n",
      "の\t助詞,連体化,*,*,*,*,の,ノ,ノ\n",
      "時\t名詞,非自立,副詞可能,*,*,*,時,トキ,トキ\n",
      "に\t助詞,格助詞,一般,*,*,*,に,ニ,ニ\n",
      "は\t助詞,係助詞,*,*,*,*,は,ハ,ワ\n",
      "必ず\t副詞,助詞類接続,*,*,*,*,必ず,カナラズ,カナラズ\n",
      "ヒーロー\t名詞,一般,*,*,*,*,ヒーロー,ヒーロー,ヒーロー\n",
      "が\t助詞,格助詞,一般,*,*,*,が,ガ,ガ\n",
      "現れる\t動詞,自立,*,*,一段,基本形,現れる,アラワレル,アラワレル\n",
      "。\t記号,句点,*,*,*,*,。,。,。\n",
      "EOS\n"
     ]
    }
   ],
   "source": [
    "text = \"ピンチの時には必ずヒーローが現れる。\"\n",
    "\n",
    "print(nm.parse(text))"
   ]
  },
  {
   "cell_type": "markdown",
   "metadata": {},
   "source": [
    "#### with 文\n",
    "\n",
    "[Python with](http://docs.python.jp/3/reference/compound_stmts.html#the-with-statement) 文を使用すれば、コンテキストが正常に終了しても例外が起きても `MeCab` ライブラリーの参照が自動的に破棄されるので、勧めます。"
   ]
  },
  {
   "cell_type": "code",
   "execution_count": 3,
   "metadata": {
    "collapsed": false
   },
   "outputs": [
    {
     "name": "stdout",
     "output_type": "stream",
     "text": [
      "ピンチ\t名詞,一般,*,*,*,*,ピンチ,ピンチ,ピンチ\n",
      "の\t助詞,連体化,*,*,*,*,の,ノ,ノ\n",
      "時\t名詞,非自立,副詞可能,*,*,*,時,トキ,トキ\n",
      "に\t助詞,格助詞,一般,*,*,*,に,ニ,ニ\n",
      "は\t助詞,係助詞,*,*,*,*,は,ハ,ワ\n",
      "必ず\t副詞,助詞類接続,*,*,*,*,必ず,カナラズ,カナラズ\n",
      "ヒーロー\t名詞,一般,*,*,*,*,ヒーロー,ヒーロー,ヒーロー\n",
      "が\t助詞,格助詞,一般,*,*,*,が,ガ,ガ\n",
      "現れる\t動詞,自立,*,*,一段,基本形,現れる,アラワレル,アラワレル\n",
      "。\t記号,句点,*,*,*,*,。,。,。\n",
      "EOS\n"
     ]
    }
   ],
   "source": [
    "with MeCab() as nm:\n",
    "    print(nm.parse(text))"
   ]
  },
  {
   "cell_type": "markdown",
   "metadata": {},
   "source": [
    "#### MeCabNode と出力フォーマット\n",
    "\n",
    "解析結果を `MeCabNode` で取得して各形態素に関するより詳しい情報を出力します。\n",
    "\n",
    "`MeCab` の `-F / --node-format` オプションを利用して特定の形態素情報を指定して csv 形式の出力なども可能です。"
   ]
  },
  {
   "cell_type": "code",
   "execution_count": 4,
   "metadata": {
    "collapsed": false
   },
   "outputs": [
    {
     "name": "stdout",
     "output_type": "stream",
     "text": [
      "ピンチ,名詞,38,ピンチ\n",
      "の,助詞,24,ノ\n",
      "時,名詞,66,トキ\n",
      "に,助詞,13,ニ\n",
      "は,助詞,16,ワ\n",
      "必ず,副詞,35,カナラズ\n",
      "ヒーロー,名詞,38,ヒーロー\n",
      "が,助詞,13,ガ\n",
      "現れる,動詞,31,アラワレル\n",
      "。,記号,7,。\n",
      "EOS\n"
     ]
    }
   ],
   "source": [
    "# -F / --node-format オプションでノードの出力フォーマットを指定する\n",
    "#\n",
    "# %m    ... 形態素の表層文\n",
    "# %f[0] ... 品詞\n",
    "# %h    ... 品詞 ID (IPADIC)\n",
    "# %f[8] ... 発音\n",
    "#  \n",
    "with MeCab(r\"-F%m,%f[0],%h,%f[8]\") as nm:\n",
    "    for n in nm.parse(text, as_nodes=True):\n",
    "        print(n.feature)"
   ]
  },
  {
   "cell_type": "markdown",
   "metadata": {},
   "source": [
    "以上。"
   ]
  }
 ],
 "metadata": {
  "kernelspec": {
   "display_name": "Python 3",
   "language": "python",
   "name": "python3"
  },
  "language_info": {
   "codemirror_mode": {
    "name": "ipython",
    "version": 3
   },
   "file_extension": ".py",
   "mimetype": "text/x-python",
   "name": "python",
   "nbconvert_exporter": "python",
   "pygments_lexer": "ipython3",
   "version": "3.4.3"
  }
 },
 "nbformat": 4,
 "nbformat_minor": 0
}
