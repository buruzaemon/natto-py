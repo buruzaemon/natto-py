{
 "metadata": {
  "name": "",
  "signature": "sha256:8b405b707565920aa94aa182b187492dcedff7a7ca93eba9fab895e0a62422c8"
 },
 "nbformat": 3,
 "nbformat_minor": 0,
 "worksheets": [
  {
   "cells": [
    {
     "cell_type": "heading",
     "level": 1,
     "metadata": {},
     "source": [
      "\u3068\u308a\u3042\u3048\u305a\u4f7f\u3063\u3066\u307f\u3088\u3046\uff01"
     ]
    },
    {
     "cell_type": "markdown",
     "metadata": {},
     "source": [
      "natto-py \u3068\u3044\u3046 MeCab \u30d0\u30a4\u30f3\u30c7\u30a3\u30f3\u30b0\u3092\u7c21\u5358\u306b\u7d39\u4ecb\u3057\u307e\u3059\u3002"
     ]
    },
    {
     "cell_type": "heading",
     "level": 3,
     "metadata": {},
     "source": [
      "\u5fc5\u8981\u306a\u74b0\u5883"
     ]
    },
    {
     "cell_type": "markdown",
     "metadata": {},
     "source": [
      "1. Python 2.7 \u3042\u308b\u3044\u306f\u305d\u308c\u4ee5\u4e0a\u306a\u3082\u306e\n",
      "2. MeCab 0.996\n",
      "3. \u4e0a\u8a18 MeCab 0.996 \u306e\u5229\u7528\u53ef\u80fd\u306a\u30b7\u30b9\u30c6\u30e0\u8f9e\u66f8\n",
      "   - mecab-ipadic\n",
      "   - mecab-jumandic"
     ]
    },
    {
     "cell_type": "heading",
     "level": 3,
     "metadata": {},
     "source": [
      "\u30a4\u30f3\u30b9\u30c8\u30fc\u30eb"
     ]
    },
    {
     "cell_type": "markdown",
     "metadata": {},
     "source": [
      "\u30a4\u30f3\u30b9\u30c8\u30fc\u30eb\u3059\u308b\u306b\u306f `pip` \u3092\u901a\u3057\u3066\u901a\u5e38\u306e\u30d1\u30c3\u30b1\u30fc\u30b8\u3068\u540c\u69d8\u306b\u30a4\u30f3\u30b9\u30c8\u30fc\u30eb\u3092\u884c\u3044\u307e\u3059\u3002    \n",
      "    \n",
      "    pip install natto-py\n"
     ]
    },
    {
     "cell_type": "heading",
     "level": 3,
     "metadata": {},
     "source": [
      "\u8a2d\u5b9a"
     ]
    },
    {
     "cell_type": "markdown",
     "metadata": {},
     "source": [
      "\u4e0b\u8a18\u306e\u6761\u4ef6\u3055\u3048\u63c3\u3063\u3066\u3044\u308c\u3070\u3001\u7279\u306b\u3042\u3089\u304b\u3058\u3081\u306b\u8a2d\u5b9a\u3059\u308b\u5fc5\u8981\u306f\u306a\u304f\u3001natto-py \u306f\u81ea\u52d5\u7684\u306b mecab \u30e9\u30a4\u30d6\u30e9\u30ea\u30fc\u3092\u7279\u5b9a\u3057\u3001\u30d0\u30a4\u30f3\u30c7\u30a3\u30f3\u30b0\u3092\u3057\u307e\u3059\u3002\n",
      "\n",
      "- \\*NIX \u3068 OSX \u306e\u5834\u5408\u3044\u3001mecab \u304a\u3088\u3073 mecab-config \u3092 PATH \u306b\u8ffd\u52a0\u3057\u3066\u3044\u308b\u3053\u3068\n",
      "- \u307e\u305f Windows \u3067\u306f\u3001\u901a\u5e38\u306e\u30a4\u30f3\u30b9\u30c8\u30fc\u30e9\u30fc\u3092\u4f7f\u7528\u3057\u3066 Windows Registry \u306b `HKEY_CURRENT_USER\\Software\\MeCab` \u3068\u3044\u3046\u30ad\u30fc\u304c\u8a2d\u5b9a\u3057\u3066\u3044\u308b\u3053\u3068"
     ]
    },
    {
     "cell_type": "markdown",
     "metadata": {},
     "source": [
      "\u4e07\u304c\u4e00\u3001mecab \u30e9\u30a4\u30d6\u30e9\u30ea\u30fc\u304c\u898b\u3064\u304b\u3089\u305a `EnvironmentError` \u306a\u3069\u304c\u767a\u751f\u3057\u305f\u5834\u5408\u3001\u6b21\u306e\u74b0\u5883\u5909\u6570\u8a2d\u5b9a\u3092\u884c\u3046\u5fc5\u8981\u304c\u3042\u308a\u307e\u3059\u3002\n",
      "\n",
      "- mecab \u30b7\u30b9\u30c6\u30e0\u8f9e\u66f8\u306e charset \u3092 `MECAB_CHARSET` \u3068\u3059\u308b\n",
      "- mecab \u30e9\u30a4\u30d6\u30e9\u30ea\u30fc\u306e\u30d5\u30a1\u30a4\u30eb\u540d \u3092 `MECAB_PATH` \u3068\u3059\u308b"
     ]
    },
    {
     "cell_type": "heading",
     "level": 3,
     "metadata": {},
     "source": [
      "\u57fa\u672c\u306e\u4f7f\u3044\u65b9"
     ]
    },
    {
     "cell_type": "markdown",
     "metadata": {},
     "source": [
      "\u307e\u305a\u306f `MeCab` \u306e\u30a4\u30f3\u30b9\u30bf\u30f3\u30b9\u3092\u53d6\u5f97\u3057\u307e\u3059\u3002 `with` \u6587\u3092\u5229\u7528\u3057\u3066 `natto-py` \u306f\u81ea\u52d5\u7684\u306b `mecab_destroy` \u3092\u547c\u3093\u3067\u304f\u308c\u307e\u3059\u3002"
     ]
    },
    {
     "cell_type": "code",
     "collapsed": false,
     "input": [
      "from natto import MeCab\n",
      "\n",
      "with MeCab() as nm:\n",
      "    print(nm)"
     ],
     "language": "python",
     "metadata": {},
     "outputs": [
      {
       "output_type": "stream",
       "stream": "stdout",
       "text": [
        "<natto.mecab.MeCab pointer=<cdata 'mecab_t *' 0x000000000042AF10>, libpath=\"C:\\Program Files (x86)\\MeCab\\bin\\libmecab.dll\", options={}, dicts=[<natto.dictionary.DictionaryInfo pointer=<cdata 'mecab_dictionary_info_t *' 0x0000000000445970>, filepath=\"C:\\Program Files (x86)\\MeCab\\dic\\ipadic\\sys.dic\", charset=SHIFT-JIS, type=0>], version=0.996>\n"
       ]
      }
     ],
     "prompt_number": 1
    },
    {
     "cell_type": "markdown",
     "metadata": {},
     "source": [
      "\u6587\u5b57\u5217\u3092\u5165\u529b\u3068\u3057\u3001\u89e3\u6790\u3092\u884c\u3044\u307e\u3059\u3002"
     ]
    },
    {
     "cell_type": "code",
     "collapsed": false,
     "input": [
      "    print(nm.parse('\u3053\u306e\u661f\u306e\u4e00\u7b49\u8cde\u306b\u306a\u308a\u305f\u3044\u306e\u5353\u7403\u3067\u4ffa\u306f\u3001\u305d\u3093\u3060\u3051\uff01'))"
     ],
     "language": "python",
     "metadata": {},
     "outputs": [
      {
       "output_type": "stream",
       "stream": "stdout",
       "text": [
        "\u3053\u306e\t\u9023\u4f53\u8a5e,*,*,*,*,*,\u3053\u306e,\u30b3\u30ce,\u30b3\u30ce\n",
        "\u661f\t\u540d\u8a5e,\u4e00\u822c,*,*,*,*,\u661f,\u30db\u30b7,\u30db\u30b7\n",
        "\u306e\t\u52a9\u8a5e,\u9023\u4f53\u5316,*,*,*,*,\u306e,\u30ce,\u30ce\n",
        "\u4e00\u7b49\t\u540d\u8a5e,\u4e00\u822c,*,*,*,*,\u4e00\u7b49,\u30a4\u30c3\u30c8\u30a6,\u30a4\u30c3\u30c8\u30fc\n",
        "\u8cde\t\u540d\u8a5e,\u63a5\u5c3e,\u4e00\u822c,*,*,*,\u8cde,\u30b7\u30e7\u30a6,\u30b7\u30e7\u30fc\n",
        "\u306b\t\u52a9\u8a5e,\u683c\u52a9\u8a5e,\u4e00\u822c,*,*,*,\u306b,\u30cb,\u30cb\n",
        "\u306a\u308a\t\u52d5\u8a5e,\u81ea\u7acb,*,*,\u4e94\u6bb5\u30fb\u30e9\u884c,\u9023\u7528\u5f62,\u306a\u308b,\u30ca\u30ea,\u30ca\u30ea\n",
        "\u305f\u3044\t\u52a9\u52d5\u8a5e,*,*,*,\u7279\u6b8a\u30fb\u30bf\u30a4,\u57fa\u672c\u5f62,\u305f\u3044,\u30bf\u30a4,\u30bf\u30a4\n",
        "\u306e\t\u52a9\u8a5e,\u9023\u4f53\u5316,*,*,*,*,\u306e,\u30ce,\u30ce\n",
        "\u5353\u7403\t\u540d\u8a5e,\u30b5\u5909\u63a5\u7d9a,*,*,*,*,\u5353\u7403,\u30bf\u30c3\u30ad\u30e5\u30a6,\u30bf\u30c3\u30ad\u30e5\u30fc\n",
        "\u3067\t\u52a9\u8a5e,\u683c\u52a9\u8a5e,\u4e00\u822c,*,*,*,\u3067,\u30c7,\u30c7\n",
        "\u4ffa\t\u540d\u8a5e,\u4ee3\u540d\u8a5e,\u4e00\u822c,*,*,*,\u4ffa,\u30aa\u30ec,\u30aa\u30ec\n",
        "\u306f\t\u52a9\u8a5e,\u4fc2\u52a9\u8a5e,*,*,*,*,\u306f,\u30cf,\u30ef\n",
        "\u3001\t\u8a18\u53f7,\u8aad\u70b9,*,*,*,*,\u3001,\u3001,\u3001\n",
        "\u305d\u3093\t\u540d\u8a5e,\u4e00\u822c,*,*,*,*,\u305d\u3093,\u30bd\u30f3,\u30bd\u30f3\n",
        "\u3060\u3051\t\u52a9\u8a5e,\u526f\u52a9\u8a5e,*,*,*,*,\u3060\u3051,\u30c0\u30b1,\u30c0\u30b1\n",
        "\uff01\t\u8a18\u53f7,\u4e00\u822c,*,*,*,*,\uff01,\uff01,\uff01\n",
        "EOS\n"
       ]
      }
     ],
     "prompt_number": 2
    },
    {
     "cell_type": "heading",
     "level": 3,
     "metadata": {},
     "source": [
      "\u51fa\u529b\u30d5\u30a9\u30fc\u30de\u30c3\u30c8\u3068 `Generator` \u306b\u3088\u308b\u30ce\u30fc\u30c9\u30d1\u30fc\u30b7\u30f3\u30b0"
     ]
    },
    {
     "cell_type": "markdown",
     "metadata": {},
     "source": [
      "\u30c6\u30ad\u30b9\u30c8\u3092\u89e3\u6790\u3059\u308b\u969b\u306b `Generator` \u3092\u5229\u7528\u3057\u3066\u52b9\u7387\u7684\u306b\u5404 `MeCabNode` \u3092\u751f\u6210\u3057\u307e\u3059\u3002"
     ]
    },
    {
     "cell_type": "code",
     "collapsed": false,
     "input": [
      "    for n in nm.parse('\u98db\u3079\u306d\u3048\u9ce5\u3082\u3044\u308b\u3063\u3066\u3053\u3063\u305f\u3002', as_nodes=True):\n",
      "        if n.is_nor():\n",
      "            print('{}\\t{}'.format(n.surface, n.cost))"
     ],
     "language": "python",
     "metadata": {},
     "outputs": [
      {
       "output_type": "stream",
       "stream": "stdout",
       "text": [
        "\u98db\u3079\t8101\n",
        "\u306d\u3048\t6416\n",
        "\u9ce5\t12029\n",
        "\u3082\t12540\n",
        "\u3044\u308b\t16477\n",
        "\u3063\u3066\t20631\n",
        "\u3053\u3063\t30320\n",
        "\u305f\t29380\n",
        "\u3002\t25946\n"
       ]
      }
     ],
     "prompt_number": 3
    },
    {
     "cell_type": "markdown",
     "metadata": {},
     "source": [
      "\u307e\u305f\u7279\u5b9a\u306e\u51fa\u529b\u30d5\u30a9\u30fc\u30de\u30c3\u30c8\u3092\u6307\u5b9a\u3057\u3066 `Generator` \u3092\u5229\u7528\u3057\u3066\u5404 `MeCabNode` \u3092\u751f\u6210\u3057\u307e\u3059\u3002"
     ]
    },
    {
     "cell_type": "code",
     "collapsed": false,
     "input": [
      "with MeCab('-F%m\\\\t%h\\\\t%f[0,1]') as nm:\n",
      "    for n in nm.parse('\u3042\u3093\u305f\u306f\u30aa\u30a4\u30e9\u306b\u98db\u3073\u65b9\u3092\u6559\u3048\u3066\u304f\u308c\u305f\u3002', as_nodes=True):\n",
      "        if n.is_nor():\n",
      "            print(n.feature)"
     ],
     "language": "python",
     "metadata": {},
     "outputs": [
      {
       "output_type": "stream",
       "stream": "stdout",
       "text": [
        "\u3042\u3093\u305f\t59\t\u540d\u8a5e\t\u4ee3\u540d\u8a5e\n",
        "\u306f\t16\t\u52a9\u8a5e\t\u4fc2\u52a9\u8a5e\n",
        "\u30aa\u30a4\u30e9\t59\t\u540d\u8a5e\t\u4ee3\u540d\u8a5e\n",
        "\u306b\t13\t\u52a9\u8a5e\t\u683c\u52a9\u8a5e\n",
        "\u98db\u3073\t31\t\u52d5\u8a5e\t\u81ea\u7acb\n",
        "\u65b9\t57\t\u540d\u8a5e\t\u63a5\u5c3e\n",
        "\u3092\t13\t\u52a9\u8a5e\t\u683c\u52a9\u8a5e\n",
        "\u6559\u3048\t31\t\u52d5\u8a5e\t\u81ea\u7acb\n",
        "\u3066\t18\t\u52a9\u8a5e\t\u63a5\u7d9a\u52a9\u8a5e\n",
        "\u304f\u308c\t33\t\u52d5\u8a5e\t\u975e\u81ea\u7acb\n",
        "\u305f\t25\t\u52a9\u52d5\u8a5e\n",
        "\u3002\t7\t\u8a18\u53f7\t\u53e5\u70b9\n"
       ]
      }
     ],
     "prompt_number": 4
    },
    {
     "cell_type": "markdown",
     "metadata": {},
     "source": [
      "\u4ee5\u4e0a\u3002"
     ]
    }
   ],
   "metadata": {}
  }
 ]
}