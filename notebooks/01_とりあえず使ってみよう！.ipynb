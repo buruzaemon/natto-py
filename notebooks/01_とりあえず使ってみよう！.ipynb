{
 "cells": [
  {
   "cell_type": "markdown",
   "metadata": {},
   "source": [
    "# とりあえず使ってみよう！\n",
    "\n",
    "natto-py という MeCab バインディングを簡単に紹介します。"
   ]
  },
  {
   "cell_type": "markdown",
   "metadata": {},
   "source": [
    "### 必要な環境\n",
    "\n",
    "1. Python 2.7 あるいはそれ以上なもの\n",
    "2. MeCab 0.996\n",
    "3. 上記 MeCab 0.996 の利用可能なシステム辞書\n",
    "   - mecab-ipadic\n",
    "   - mecab-jumandic"
   ]
  },
  {
   "cell_type": "markdown",
   "metadata": {},
   "source": [
    "### インストール\n",
    "\n",
    "インストールするには `pip` を通して通常のパッケージと同様にインストールを行います。    \n",
    "    \n",
    "    pip install natto-py\n"
   ]
  },
  {
   "cell_type": "markdown",
   "metadata": {},
   "source": [
    "### 設定\n",
    "\n",
    "下記の条件さえ揃っていれば、特にあらかじめに設定する必要はなく、natto-py は自動的に mecab ライブラリーを特定し、バインディングをします。\n",
    "\n",
    "- \\*NIX と OSX の場合い、mecab および mecab-config を PATH に追加していること\n",
    "- また Windows では、通常のインストーラーを使用して Windows Registry に `HKEY_CURRENT_USER\\Software\\MeCab` というキーが設定していること\n",
    "\n",
    "万が一、mecab ライブラリーが見つからず `EnvironmentError` などが発生した場合、次の環境変数設定を行う必要があります。\n",
    "\n",
    "- mecab システム辞書の charset を `MECAB_CHARSET` とする\n",
    "- mecab ライブラリーのファイル名 を `MECAB_PATH` とする"
   ]
  },
  {
   "cell_type": "markdown",
   "metadata": {},
   "source": [
    "### 基本の使い方\n",
    "\n",
    "まずは `MeCab` のインスタンスを取得します。 `with` 文を利用して `natto-py` は自動的に `mecab_destroy` を呼んでくれます。\n",
    "\n",
    "文字列を入力とし、解析を行います。"
   ]
  },
  {
   "cell_type": "markdown",
   "metadata": {},
   "source": [
    "### 出力フォーマットと `Generator` によるノードパーシング\n",
    "\n",
    "テキストを解析する際に `Generator` を利用して効率的に各 `MeCabNode` を生成します。\n",
    "\n",
    "また特定の出力フォーマットを指定して `Generator` を利用して各 `MeCabNode` を生成します。"
   ]
  },
  {
   "cell_type": "code",
   "execution_count": null,
   "metadata": {
    "collapsed": false
   },
   "outputs": [],
   "source": []
  },
  {
   "cell_type": "markdown",
   "metadata": {},
   "source": [
    "以上。"
   ]
  }
 ],
 "metadata": {
  "kernelspec": {
   "display_name": "Python 3",
   "language": "python",
   "name": "python3"
  },
  "language_info": {
   "codemirror_mode": {
    "name": "ipython",
    "version": 3
   },
   "file_extension": ".py",
   "mimetype": "text/x-python",
   "name": "python",
   "nbconvert_exporter": "python",
   "pygments_lexer": "ipython3",
   "version": "3.4.1"
  }
 },
 "nbformat": 4,
 "nbformat_minor": 0
}
