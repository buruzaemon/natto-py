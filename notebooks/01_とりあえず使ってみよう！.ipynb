{
 "cells": [
  {
   "cell_type": "markdown",
   "metadata": {},
   "source": [
    "# とりあえず使ってみよう！"
   ]
  },
  {
   "cell_type": "markdown",
   "metadata": {},
   "source": [
    "natto-py という MeCab バインディングを簡単に紹介します。"
   ]
  },
  {
   "cell_type": "markdown",
   "metadata": {},
   "source": [
    "### 必要な環境"
   ]
  },
  {
   "cell_type": "markdown",
   "metadata": {},
   "source": [
    "1. Python 2.7 あるいはそれ以上なもの\n",
    "2. MeCab 0.996\n",
    "3. 上記 MeCab 0.996 の利用可能なシステム辞書\n",
    "   - mecab-ipadic\n",
    "   - mecab-jumandic"
   ]
  },
  {
   "cell_type": "markdown",
   "metadata": {},
   "source": [
    "### インストール"
   ]
  },
  {
   "cell_type": "markdown",
   "metadata": {},
   "source": [
    "インストールするには `pip` を通して通常のパッケージと同様にインストールを行います。    \n",
    "    \n",
    "    pip install natto-py\n"
   ]
  },
  {
   "cell_type": "markdown",
   "metadata": {},
   "source": [
    "### 設定"
   ]
  },
  {
   "cell_type": "markdown",
   "metadata": {},
   "source": [
    "下記の条件さえ揃っていれば、特にあらかじめに設定する必要はなく、natto-py は自動的に mecab ライブラリーを特定し、バインディングをします。\n",
    "\n",
    "- \\*NIX と OSX の場合い、mecab および mecab-config を PATH に追加していること\n",
    "- また Windows では、通常のインストーラーを使用して Windows Registry に `HKEY_CURRENT_USER\\Software\\MeCab` というキーが設定していること"
   ]
  },
  {
   "cell_type": "markdown",
   "metadata": {},
   "source": [
    "万が一、mecab ライブラリーが見つからず `EnvironmentError` などが発生した場合、次の環境変数設定を行う必要があります。\n",
    "\n",
    "- mecab システム辞書の charset を `MECAB_CHARSET` とする\n",
    "- mecab ライブラリーのファイル名 を `MECAB_PATH` とする"
   ]
  },
  {
   "cell_type": "markdown",
   "metadata": {},
   "source": [
    "### 基本の使い方"
   ]
  },
  {
   "cell_type": "markdown",
   "metadata": {},
   "source": [
    "まずは `MeCab` のインスタンスを取得します。 `with` 文を利用して `natto-py` は自動的に `mecab_destroy` を呼んでくれます。"
   ]
  },
  {
   "cell_type": "code",
   "execution_count": 1,
   "metadata": {
    "collapsed": false
   },
   "outputs": [
    {
     "name": "stdout",
     "output_type": "stream",
     "text": [
      "<natto.mecab.MeCab pointer=<cdata 'mecab_t *' 0x00000000002FB8D0>, libpath=\"C:\\Program Files (x86)\\MeCab\\bin\\libmecab.dll\", options={}, dicts=[<natto.dictionary.DictionaryInfo pointer=<cdata 'mecab_dictionary_info_t *' 0x0000000000315C10>, filepath=\"C:\\Program Files (x86)\\MeCab\\dic\\ipadic\\sys.dic\", charset=SHIFT-JIS, type=0>], version=0.996>\n"
     ]
    }
   ],
   "source": [
    "from natto import MeCab\n",
    "\n",
    "with MeCab() as nm:\n",
    "    print(nm)"
   ]
  },
  {
   "cell_type": "markdown",
   "metadata": {},
   "source": [
    "文字列を入力とし、解析を行います。"
   ]
  },
  {
   "cell_type": "code",
   "execution_count": 2,
   "metadata": {
    "collapsed": false
   },
   "outputs": [
    {
     "name": "stdout",
     "output_type": "stream",
     "text": [
      "この\t連体詞,*,*,*,*,*,この,コノ,コノ\n",
      "星\t名詞,一般,*,*,*,*,星,ホシ,ホシ\n",
      "の\t助詞,連体化,*,*,*,*,の,ノ,ノ\n",
      "一等\t名詞,一般,*,*,*,*,一等,イットウ,イットー\n",
      "賞\t名詞,接尾,一般,*,*,*,賞,ショウ,ショー\n",
      "に\t助詞,格助詞,一般,*,*,*,に,ニ,ニ\n",
      "なり\t動詞,自立,*,*,五段・ラ行,連用形,なる,ナリ,ナリ\n",
      "たい\t助動詞,*,*,*,特殊・タイ,基本形,たい,タイ,タイ\n",
      "の\t助詞,連体化,*,*,*,*,の,ノ,ノ\n",
      "卓球\t名詞,サ変接続,*,*,*,*,卓球,タッキュウ,タッキュー\n",
      "で\t助詞,格助詞,一般,*,*,*,で,デ,デ\n",
      "俺\t名詞,代名詞,一般,*,*,*,俺,オレ,オレ\n",
      "は\t助詞,係助詞,*,*,*,*,は,ハ,ワ\n",
      "、\t記号,読点,*,*,*,*,、,、,、\n",
      "そん\t名詞,一般,*,*,*,*,そん,ソン,ソン\n",
      "だけ\t助詞,副助詞,*,*,*,*,だけ,ダケ,ダケ\n",
      "！\t記号,一般,*,*,*,*,！,！,！\n",
      "EOS\n"
     ]
    }
   ],
   "source": [
    "    print(nm.parse('この星の一等賞になりたいの卓球で俺は、そんだけ！'))"
   ]
  },
  {
   "cell_type": "markdown",
   "metadata": {},
   "source": [
    "### 出力フォーマットと `Generator` によるノードパーシング"
   ]
  },
  {
   "cell_type": "markdown",
   "metadata": {},
   "source": [
    "テキストを解析する際に `Generator` を利用して効率的に各 `MeCabNode` を生成します。"
   ]
  },
  {
   "cell_type": "code",
   "execution_count": 3,
   "metadata": {
    "collapsed": false
   },
   "outputs": [
    {
     "name": "stdout",
     "output_type": "stream",
     "text": [
      "飛べ\t8101\n",
      "ねえ\t6416\n",
      "鳥\t12029\n",
      "も\t12540\n",
      "いる\t16477\n",
      "って\t20631\n",
      "こっ\t30320\n",
      "た\t29380\n",
      "。\t25946\n"
     ]
    }
   ],
   "source": [
    "    for n in nm.parse('飛べねえ鳥もいるってこった。', as_nodes=True):\n",
    "        if n.is_nor():\n",
    "            print('{}\\t{}'.format(n.surface, n.cost))"
   ]
  },
  {
   "cell_type": "markdown",
   "metadata": {},
   "source": [
    "また特定の出力フォーマットを指定して `Generator` を利用して各 `MeCabNode` を生成します。"
   ]
  },
  {
   "cell_type": "code",
   "execution_count": 4,
   "metadata": {
    "collapsed": false
   },
   "outputs": [
    {
     "name": "stdout",
     "output_type": "stream",
     "text": [
      "あんた\t59\t名詞\t代名詞\n",
      "は\t16\t助詞\t係助詞\n",
      "オイラ\t59\t名詞\t代名詞\n",
      "に\t13\t助詞\t格助詞\n",
      "飛び\t31\t動詞\t自立\n",
      "方\t57\t名詞\t接尾\n",
      "を\t13\t助詞\t格助詞\n",
      "教え\t31\t動詞\t自立\n",
      "て\t18\t助詞\t接続助詞\n",
      "くれ\t33\t動詞\t非自立\n",
      "た\t25\t助動詞\n",
      "。\t7\t記号\t句点\n"
     ]
    }
   ],
   "source": [
    "with MeCab('-F%m\\\\t%h\\\\t%f[0,1]') as nm:\n",
    "    for n in nm.parse('あんたはオイラに飛び方を教えてくれた。', as_nodes=True):\n",
    "        if n.is_nor():\n",
    "            print(n.feature)"
   ]
  },
  {
   "cell_type": "markdown",
   "metadata": {},
   "source": [
    "以上。"
   ]
  }
 ],
 "metadata": {
  "kernelspec": {
   "display_name": "Python 3",
   "language": "python",
   "name": "python3"
  },
  "language_info": {
   "codemirror_mode": {
    "name": "ipython",
    "version": 3
   },
   "file_extension": ".py",
   "mimetype": "text/x-python",
   "name": "python",
   "nbconvert_exporter": "python",
   "pygments_lexer": "ipython3",
   "version": "3.4.1"
  }
 },
 "nbformat": 4,
 "nbformat_minor": 0
}
